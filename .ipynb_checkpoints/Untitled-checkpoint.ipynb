{
 "cells": [
  {
   "cell_type": "code",
   "execution_count": 1,
   "metadata": {
    "scrolled": true
   },
   "outputs": [
    {
     "ename": "ModuleNotFoundError",
     "evalue": "No module named 'geopandas'",
     "output_type": "error",
     "traceback": [
      "\u001b[1;31m---------------------------------------------------------------------------\u001b[0m",
      "\u001b[1;31mModuleNotFoundError\u001b[0m                       Traceback (most recent call last)",
      "\u001b[1;32m<ipython-input-1-b4b3dd8b02c6>\u001b[0m in \u001b[0;36m<module>\u001b[1;34m\u001b[0m\n\u001b[0;32m      4\u001b[0m \u001b[1;32mfrom\u001b[0m \u001b[0mcartopy\u001b[0m\u001b[1;33m.\u001b[0m\u001b[0mio\u001b[0m \u001b[1;32mimport\u001b[0m \u001b[0mshapereader\u001b[0m\u001b[1;33m\u001b[0m\u001b[1;33m\u001b[0m\u001b[0m\n\u001b[0;32m      5\u001b[0m \u001b[1;32mimport\u001b[0m \u001b[0mcartopy\u001b[0m\u001b[1;33m.\u001b[0m\u001b[0mcrs\u001b[0m \u001b[1;32mas\u001b[0m \u001b[0mccrs\u001b[0m\u001b[1;33m\u001b[0m\u001b[1;33m\u001b[0m\u001b[0m\n\u001b[1;32m----> 6\u001b[1;33m \u001b[1;32mimport\u001b[0m \u001b[0mgeopandas\u001b[0m\u001b[1;33m\u001b[0m\u001b[1;33m\u001b[0m\u001b[0m\n\u001b[0m\u001b[0;32m      7\u001b[0m \u001b[1;32mimport\u001b[0m \u001b[0mnumpy\u001b[0m \u001b[1;32mas\u001b[0m \u001b[0mnp\u001b[0m\u001b[1;33m\u001b[0m\u001b[1;33m\u001b[0m\u001b[0m\n",
      "\u001b[1;31mModuleNotFoundError\u001b[0m: No module named 'geopandas'"
     ]
    }
   ],
   "source": [
    "import matplotlib.pyplot as plt\n",
    "import matplotlib\n",
    "import cartopy\n",
    "from cartopy.io import shapereader\n",
    "import cartopy.crs as ccrs\n",
    "import geopandas\n",
    "import numpy as np"
   ]
  },
  {
   "cell_type": "code",
   "execution_count": null,
   "metadata": {
    "scrolled": false
   },
   "outputs": [],
   "source": [
    "def addEdge(adj, v, w):     \n",
    "    adj[v].append(w)\n",
    "    adj[w].append(v) \n",
    "    \n",
    "    return adj"
   ]
  },
  {
   "cell_type": "code",
   "execution_count": null,
   "metadata": {},
   "outputs": [],
   "source": [
    "def greedyColoring(adj, V):\n",
    "     \n",
    "    result = [-1] * V\n",
    " \n",
    "    \n",
    "    result[0] = 0;\n",
    "\n",
    "    available = [False] * V\n",
    "\n",
    "    for u in range(1, V):\n",
    "\n",
    "        for i in adj[u]:\n",
    "            if (result[i] != -1):\n",
    "                available[result[i]] = True\n",
    " \n",
    "\n",
    "        cr = 0\n",
    "        while cr < V:\n",
    "            if (available[cr] == False):\n",
    "                break\n",
    "             \n",
    "            cr += 1\n",
    "\n",
    "        result[u] = cr\n",
    "\n",
    "        for i in adj[u]:\n",
    "            if (result[i] != -1):\n",
    "                available[result[i]] = False\n",
    "\n",
    "    for u in range(V):\n",
    "        print(\"Vertex\", u, \" --->  Color\", result[u])\n",
    "    \n",
    "    return result"
   ]
  },
  {
   "cell_type": "code",
   "execution_count": null,
   "metadata": {},
   "outputs": [],
   "source": [
    "g1 = [[] for i in range(13)]\n",
    "\n",
    "g1 = addEdge(g1, 0, 1)\n",
    "g1 = addEdge(g1, 0, 3)\n",
    "g1 = addEdge(g1, 0, 2)\n",
    "g1 = addEdge(g1, 0, 8)\n",
    "g1 = addEdge(g1, 0, 12)\n",
    "\n",
    "\n",
    "g1 = addEdge(g1, 1, 2)\n",
    "g1 = addEdge(g1, 1, 3)\n",
    "g1 = addEdge(g1, 1, 8)\n",
    "g1 = addEdge(g1, 1, 9)\n",
    "\n",
    "g1 = addEdge(g1, 2, 4)\n",
    "g1 = addEdge(g1, 2, 6)\n",
    "g1 = addEdge(g1, 2, 8)\n",
    "g1 = addEdge(g1, 2, 9)\n",
    "g1 = addEdge(g1, 2, 10)\n",
    "g1 = addEdge(g1, 2, 11)\n",
    "g1 = addEdge(g1, 2, 12)\n",
    "\n",
    "g1 = addEdge(g1, 3, 9)\n",
    "\n",
    "g1 = addEdge(g1, 4, 5)\n",
    "g1 = addEdge(g1, 4, 7)\n",
    "g1 = addEdge(g1, 4, 9)\n",
    "g1 = addEdge(g1, 4, 12)\n",
    "\n",
    "g1 = addEdge(g1, 5, 9)\n",
    "\n",
    "g1 = addEdge(g1, 6, 10)\n",
    "g1 = addEdge(g1, 6, 12)\n",
    "\n",
    "\n",
    "print(\"Coloring of graph 1 \")\n",
    "color = greedyColoring(g1, 13)\n"
   ]
  },
  {
   "cell_type": "code",
   "execution_count": null,
   "metadata": {},
   "outputs": [],
   "source": [
    "resolution='10m'\n",
    "category='cultural'\n",
    "name='admin_0_countries'\n",
    "\n",
    "df = geopandas.read_file(shpfilename)\n",
    "\n",
    "plt.figure(figsize=(15,12))\n",
    "\n",
    "ax = plt.axes(projection=ccrs.PlateCarree())\n",
    "ax.set_extent([-90, -30, -55, 15])\n",
    "\n",
    "ax.add_feature(cartopy.feature.BORDERS, linestyle=':', alpha=1)\n",
    "ax.add_feature(cartopy.feature.OCEAN, facecolor=(\"lightblue\"))\n",
    "ax.add_feature(cartopy.feature.LAND)\n",
    "ax.coastlines(resolution='10m')\n",
    "\n",
    "\n",
    "countries=[\n",
    "     'Argentina' # 0\n",
    "     'Bolivia'   # 1\n",
    "     'Brazil'    # 2\n",
    "     'Chile'     # 3\n",
    "     'Colombia'  # 4\n",
    "     'Ecuador'   # 5\n",
    "     'Guyana'    # 6\n",
    "     'Panama'    # 7\n",
    "     'Paraguay'  # 8\n",
    "     'Peru'      # 9\n",
    "     'Suriname'  # 10\n",
    "     'Uruguay'   # 11\n",
    "     'Venezuela' # 12\n",
    "]\n",
    "\n",
    "color_norm = (color-np.nanmin(color))/(np.nanmax(color) - np.nanmin(color))\n",
    "\n",
    "for country, color_norm in zip(countries, color_norm):\n",
    "    # read the borders of the country in this loop\n",
    "    poly = df.loc[df['ADMIN'] == country]['geometry'].values[0]\n",
    "    # get the color for this country\n",
    "    rgba = cmap(color_norm)\n",
    "    # plot the country on a map\n",
    "    ax.add_geometries(poly, crs=ccrs.PlateCarree(), facecolor=rgba, edgecolor='none', zorder=1)"
   ]
  }
 ],
 "metadata": {
  "interpreter": {
   "hash": "5e1394bc151f9775969020b848e46310cd1cb62ba0869883592d33ea93d3d33c"
  },
  "kernelspec": {
   "display_name": "Python 3",
   "language": "python",
   "name": "python3"
  },
  "language_info": {
   "codemirror_mode": {
    "name": "ipython",
    "version": 3
   },
   "file_extension": ".py",
   "mimetype": "text/x-python",
   "name": "python",
   "nbconvert_exporter": "python",
   "pygments_lexer": "ipython3",
   "version": "3.8.5"
  }
 },
 "nbformat": 4,
 "nbformat_minor": 4
}
